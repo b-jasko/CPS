{
 "nbformat": 4,
 "nbformat_minor": 2,
 "metadata": {
  "language_info": {
   "name": "python",
   "codemirror_mode": {
    "name": "ipython",
    "version": 3
   },
   "version": "3.7.4-final"
  },
  "orig_nbformat": 2,
  "file_extension": ".py",
  "mimetype": "text/x-python",
  "name": "python",
  "npconvert_exporter": "python",
  "pygments_lexer": "ipython3",
  "version": 3,
  "kernelspec": {
   "name": "python3",
   "display_name": "Python 3"
  }
 },
 "cells": [
  {
   "cell_type": "code",
   "execution_count": 1,
   "metadata": {},
   "outputs": [],
   "source": [
    "import pandas as pd\n",
    "from sqlalchemy import Column, Integer, String, Date, Boolean\n",
    "from sqlalchemy.ext.declarative import declarative_base\n",
    "from sqlalchemy import ForeignKey\n",
    "from sqlalchemy.orm import sessionmaker"
   ]
  },
  {
   "cell_type": "code",
   "execution_count": 2,
   "metadata": {},
   "outputs": [
    {
     "output_type": "stream",
     "name": "stdout",
     "text": "0\n"
    }
   ],
   "source": [
    "dataset_no = (len(\"Bartosz\") + len(\"Jasko\"))% 6\n",
    "print(dataset_no)"
   ]
  },
  {
   "cell_type": "code",
   "execution_count": 3,
   "metadata": {},
   "outputs": [
    {
     "output_type": "stream",
     "name": "stdout",
     "text": "Index(['id', 'city', 'area', 'rooms', 'bathroom', 'parking spaces', 'floor',\n       'animal', 'furniture', 'hoa', 'rent amount', 'property tax',\n       'fire insurance', 'total'],\n      dtype='object')\n"
    },
    {
     "output_type": "execute_result",
     "data": {
      "text/plain": "   id  city  area  rooms  bathroom  parking spaces floor     animal  \\\n0   0     1   240      3         3               4     -      acept   \n1   1     0    64      2         1               1    10      acept   \n2   2     1   443      5         5               4     3      acept   \n3   3     1    73      2         2               1    12      acept   \n4   4     1    19      1         1               0     -  not acept   \n\n       furniture      hoa rent amount property tax fire insurance     total  \n0      furnished      R$0     R$8,000      R$1,000          R$121   R$9,121  \n1  not furnished    R$540       R$820        R$122           R$11   R$1,493  \n2      furnished  R$4,172     R$7,000      R$1,417           R$89  R$12,680  \n3  not furnished    R$700     R$1,250        R$150           R$16   R$2,116  \n4  not furnished      R$0     R$1,200         R$41           R$16   R$1,257  ",
      "text/html": "<div>\n<style scoped>\n    .dataframe tbody tr th:only-of-type {\n        vertical-align: middle;\n    }\n\n    .dataframe tbody tr th {\n        vertical-align: top;\n    }\n\n    .dataframe thead th {\n        text-align: right;\n    }\n</style>\n<table border=\"1\" class=\"dataframe\">\n  <thead>\n    <tr style=\"text-align: right;\">\n      <th></th>\n      <th>id</th>\n      <th>city</th>\n      <th>area</th>\n      <th>rooms</th>\n      <th>bathroom</th>\n      <th>parking spaces</th>\n      <th>floor</th>\n      <th>animal</th>\n      <th>furniture</th>\n      <th>hoa</th>\n      <th>rent amount</th>\n      <th>property tax</th>\n      <th>fire insurance</th>\n      <th>total</th>\n    </tr>\n  </thead>\n  <tbody>\n    <tr>\n      <td>0</td>\n      <td>0</td>\n      <td>1</td>\n      <td>240</td>\n      <td>3</td>\n      <td>3</td>\n      <td>4</td>\n      <td>-</td>\n      <td>acept</td>\n      <td>furnished</td>\n      <td>R$0</td>\n      <td>R$8,000</td>\n      <td>R$1,000</td>\n      <td>R$121</td>\n      <td>R$9,121</td>\n    </tr>\n    <tr>\n      <td>1</td>\n      <td>1</td>\n      <td>0</td>\n      <td>64</td>\n      <td>2</td>\n      <td>1</td>\n      <td>1</td>\n      <td>10</td>\n      <td>acept</td>\n      <td>not furnished</td>\n      <td>R$540</td>\n      <td>R$820</td>\n      <td>R$122</td>\n      <td>R$11</td>\n      <td>R$1,493</td>\n    </tr>\n    <tr>\n      <td>2</td>\n      <td>2</td>\n      <td>1</td>\n      <td>443</td>\n      <td>5</td>\n      <td>5</td>\n      <td>4</td>\n      <td>3</td>\n      <td>acept</td>\n      <td>furnished</td>\n      <td>R$4,172</td>\n      <td>R$7,000</td>\n      <td>R$1,417</td>\n      <td>R$89</td>\n      <td>R$12,680</td>\n    </tr>\n    <tr>\n      <td>3</td>\n      <td>3</td>\n      <td>1</td>\n      <td>73</td>\n      <td>2</td>\n      <td>2</td>\n      <td>1</td>\n      <td>12</td>\n      <td>acept</td>\n      <td>not furnished</td>\n      <td>R$700</td>\n      <td>R$1,250</td>\n      <td>R$150</td>\n      <td>R$16</td>\n      <td>R$2,116</td>\n    </tr>\n    <tr>\n      <td>4</td>\n      <td>4</td>\n      <td>1</td>\n      <td>19</td>\n      <td>1</td>\n      <td>1</td>\n      <td>0</td>\n      <td>-</td>\n      <td>not acept</td>\n      <td>not furnished</td>\n      <td>R$0</td>\n      <td>R$1,200</td>\n      <td>R$41</td>\n      <td>R$16</td>\n      <td>R$1,257</td>\n    </tr>\n  </tbody>\n</table>\n</div>"
     },
     "metadata": {},
     "execution_count": 3
    }
   ],
   "source": [
    "data = pd.read_csv(\"houses_to_rent.csv\")\n",
    "data.rename(columns={'Unnamed: 0':'id'}, inplace=True)\n",
    "\n",
    "print(data.columns)\n",
    "data.head()"
   ]
  },
  {
   "cell_type": "code",
   "execution_count": 4,
   "metadata": {},
   "outputs": [],
   "source": [
    "Base = declarative_base()"
   ]
  },
  {
   "cell_type": "code",
   "execution_count": 5,
   "metadata": {},
   "outputs": [],
   "source": [
    "class House(Base):\n",
    "    __tablename__ = 'house'\n",
    "    id = Column(Integer, primary_key=True)\n",
    "    id_cost = Column(Integer, ForeignKey(\"cost.id\"))\n",
    "    id_accommodation = Column(Integer, ForeignKey(\"accommodation.id\"))\n",
    "    id_extra = Column(Integer, ForeignKey(\"extra.id\"))\n",
    "\n",
    "    def __repr__(self):\n",
    "        return \"<houses(id='{0}', id_costs={1}, id_places={2}, id_parameters={3})>\".format(\n",
    "            self.id, self.id_costs, self.id_places, self.id_parameters)\n",
    "\n",
    "class Cost(Base):\n",
    "    __tablename__ = 'cost'\n",
    "    id = Column(Integer, primary_key=True)\n",
    "    hoa = Column(String(50))\n",
    "    rent_amount = Column(String(50))\n",
    "    property_tax = Column(String(50))\n",
    "    fire_insurance = Column(String(50))\n",
    "    total = Column(String(50))\n",
    "\n",
    "    def __repr__(self):\n",
    "        return \"<costs(id='{0}', hoa={1}, rent_amount={2}, property_tax={3}, fire_insurance={4}, total={5})>\".format(\n",
    "            self.id, self.hoa, self.rent_amount, self.property_tax, self.fire_insurance, self.total)\n",
    "\n",
    "\n",
    "class Accommodation(Base):\n",
    "    __tablename__ = 'accommodation'\n",
    "    id = Column(Integer, primary_key=True)\n",
    "    area = Column(Integer)\n",
    "    rooms = Column(Integer)\n",
    "    bathroom = Column(Integer)\n",
    "    floor = Column(Integer)\n",
    "\n",
    "    def __repr__(self):\n",
    "        return \"<places(id='{0}', area={1}, rooms={2}, bathroom={3}, floor={4})>\".format(\n",
    "            self.id, self.area, self.rooms, self.bathroom, self.floor)\n",
    "\n",
    "\n",
    "class Extra(Base):\n",
    "    __tablename__ = 'extra'\n",
    "    id = Column(Integer, primary_key=True)\n",
    "    city = Column(Boolean)\n",
    "    parking_spaces = Column(Integer)\n",
    "    animal = Column(String(50))\n",
    "    furniture = Column(String(50))\n",
    "\n",
    "    def __repr__(self):\n",
    "        return \"<parameters(id='{0}', city={1}, parking_spaces={2}, animal={3}, furniture={4})>\".format(\n",
    "            self.id, self.city, self.parking_spaces, self.animal, self.furniture)"
   ]
  }
 ]
}