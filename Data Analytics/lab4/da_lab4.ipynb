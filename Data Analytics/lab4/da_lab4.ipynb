{
 "cells": [
  {
   "cell_type": "code",
   "execution_count": 1,
   "metadata": {
    "collapsed": false,
    "jupyter": {
     "outputs_hidden": false
    },
    "pycharm": {
     "is_executing": false,
     "name": "#%%\n"
    }
   },
   "outputs": [],
   "source": [
    "import numpy as np\n",
    "import pandas as pd\n",
    "import arviz as az\n",
    "import scipy.stats as stats\n",
    "import matplotlib.pyplot as plt\n",
    "import matplotlib as mpl\n",
    "import pystan\n",
    "import stan_utility\n",
    "from DA_tools import ribbon_plot, light, light_highlight, mid, mid_highlight, dark, dark_highlight\n",
    "\n",
    "st=plt.style.context('seaborn-white')\n",
    "mpl.rcParams['figure.dpi']= 200"
   ]
  },
  {
   "cell_type": "code",
   "execution_count": 2,
   "metadata": {
    "collapsed": false,
    "jupyter": {
     "outputs_hidden": false
    },
    "pycharm": {
     "is_executing": false,
     "name": "#%%\n"
    }
   },
   "outputs": [
    {
     "data": {
      "text/html": [
       "<div>\n",
       "<style scoped>\n",
       "    .dataframe tbody tr th:only-of-type {\n",
       "        vertical-align: middle;\n",
       "    }\n",
       "\n",
       "    .dataframe tbody tr th {\n",
       "        vertical-align: top;\n",
       "    }\n",
       "\n",
       "    .dataframe thead th {\n",
       "        text-align: right;\n",
       "    }\n",
       "</style>\n",
       "<table border=\"1\" class=\"dataframe\">\n",
       "  <thead>\n",
       "    <tr style=\"text-align: right;\">\n",
       "      <th></th>\n",
       "      <th>Fatal accidents</th>\n",
       "      <th>Passenger deaths</th>\n",
       "      <th>Death rate</th>\n",
       "      <th>Miles flown [100 mln miles]</th>\n",
       "    </tr>\n",
       "    <tr>\n",
       "      <th>Year</th>\n",
       "      <th></th>\n",
       "      <th></th>\n",
       "      <th></th>\n",
       "      <th></th>\n",
       "    </tr>\n",
       "  </thead>\n",
       "  <tbody>\n",
       "    <tr>\n",
       "      <td>1976</td>\n",
       "      <td>24</td>\n",
       "      <td>734</td>\n",
       "      <td>0.19</td>\n",
       "      <td>3863.0</td>\n",
       "    </tr>\n",
       "    <tr>\n",
       "      <td>1977</td>\n",
       "      <td>25</td>\n",
       "      <td>516</td>\n",
       "      <td>0.12</td>\n",
       "      <td>4300.0</td>\n",
       "    </tr>\n",
       "    <tr>\n",
       "      <td>1978</td>\n",
       "      <td>31</td>\n",
       "      <td>754</td>\n",
       "      <td>0.15</td>\n",
       "      <td>5027.0</td>\n",
       "    </tr>\n",
       "    <tr>\n",
       "      <td>1979</td>\n",
       "      <td>31</td>\n",
       "      <td>877</td>\n",
       "      <td>0.16</td>\n",
       "      <td>5481.0</td>\n",
       "    </tr>\n",
       "    <tr>\n",
       "      <td>1980</td>\n",
       "      <td>22</td>\n",
       "      <td>814</td>\n",
       "      <td>0.14</td>\n",
       "      <td>5814.0</td>\n",
       "    </tr>\n",
       "    <tr>\n",
       "      <td>1981</td>\n",
       "      <td>21</td>\n",
       "      <td>362</td>\n",
       "      <td>0.06</td>\n",
       "      <td>6033.0</td>\n",
       "    </tr>\n",
       "    <tr>\n",
       "      <td>1982</td>\n",
       "      <td>26</td>\n",
       "      <td>764</td>\n",
       "      <td>0.13</td>\n",
       "      <td>5877.0</td>\n",
       "    </tr>\n",
       "    <tr>\n",
       "      <td>1983</td>\n",
       "      <td>20</td>\n",
       "      <td>809</td>\n",
       "      <td>0.13</td>\n",
       "      <td>6223.0</td>\n",
       "    </tr>\n",
       "    <tr>\n",
       "      <td>1984</td>\n",
       "      <td>16</td>\n",
       "      <td>223</td>\n",
       "      <td>0.03</td>\n",
       "      <td>7433.0</td>\n",
       "    </tr>\n",
       "    <tr>\n",
       "      <td>1985</td>\n",
       "      <td>22</td>\n",
       "      <td>1066</td>\n",
       "      <td>0.15</td>\n",
       "      <td>7107.0</td>\n",
       "    </tr>\n",
       "  </tbody>\n",
       "</table>\n",
       "</div>"
      ],
      "text/plain": [
       "      Fatal accidents  Passenger deaths  Death rate  \\\n",
       "Year                                                  \n",
       "1976               24               734        0.19   \n",
       "1977               25               516        0.12   \n",
       "1978               31               754        0.15   \n",
       "1979               31               877        0.16   \n",
       "1980               22               814        0.14   \n",
       "1981               21               362        0.06   \n",
       "1982               26               764        0.13   \n",
       "1983               20               809        0.13   \n",
       "1984               16               223        0.03   \n",
       "1985               22              1066        0.15   \n",
       "\n",
       "      Miles flown [100 mln miles]  \n",
       "Year                               \n",
       "1976                       3863.0  \n",
       "1977                       4300.0  \n",
       "1978                       5027.0  \n",
       "1979                       5481.0  \n",
       "1980                       5814.0  \n",
       "1981                       6033.0  \n",
       "1982                       5877.0  \n",
       "1983                       6223.0  \n",
       "1984                       7433.0  \n",
       "1985                       7107.0  "
      ]
     },
     "execution_count": 2,
     "metadata": {},
     "output_type": "execute_result"
    }
   ],
   "source": [
    "year = [1976, 1977, 1978, 1979, 1980, 1981, 1982, 1983, 1984, 1985]\n",
    "fatal_accidents = [24, 25, 31, 31, 22, 21, 26, 20, 16, 22]\n",
    "deaths = [734, 516, 754, 877, 814, 362, 764, 809, 223, 1066]\n",
    "death_rate = [0.19, 0.12, 0.15, 0.16, 0.14, 0.06, 0.13, 0.13, 0.03, 0.15]\n",
    "miles_flown = [3863.0, 4300.0, 5027.0, 5481.0, 5814.0, 6033.0, 5877.0, 6223.0, 7433.0, 7107.0]\n",
    "data = {'Year' : year, 'Fatal accidents' : fatal_accidents, 'Passenger deaths' : deaths, 'Death rate' : death_rate, 'Miles flown [100 mln miles]' : miles_flown}\n",
    "\n",
    "data = pd.DataFrame(data).set_index('Year')\n",
    "\n",
    "data"
   ]
  },
  {
   "cell_type": "markdown",
   "metadata": {
    "pycharm": {
     "name": "#%% md\n"
    }
   },
   "source": [
    "1. The rate is constant for all years and not depending on anything."
   ]
  },
  {
   "cell_type": "code",
   "execution_count": 3,
   "metadata": {
    "collapsed": false,
    "jupyter": {
     "outputs_hidden": false
    },
    "pycharm": {
     "is_executing": false,
     "name": "#%%\n"
    }
   },
   "outputs": [
    {
     "data": {
      "text/plain": [
       "(array([1., 1., 0., 1., 0., 0., 4., 2., 0., 1.]),\n",
       " array([ 223. ,  307.3,  391.6,  475.9,  560.2,  644.5,  728.8,  813.1,\n",
       "         897.4,  981.7, 1066. ]),\n",
       " <a list of 10 Patch objects>)"
      ]
     },
     "execution_count": 3,
     "metadata": {},
     "output_type": "execute_result"
    },
    {
     "data": {
      "image/png": "[encoded data removed]",
      "text/plain": [
       "<Figure size 432x288 with 1 Axes>"
      ]
     },
     "metadata": {
      "needs_background": "light"
     },
     "output_type": "display_data"
    }
   ],
   "source": [
    "plt.hist(data['Passenger deaths'])"
   ]
  },
  {
   "cell_type": "code",
   "execution_count": 4,
   "metadata": {
    "collapsed": false,
    "jupyter": {
     "outputs_hidden": false
    },
    "pycharm": {
     "is_executing": false,
     "name": "#%%\n"
    }
   },
   "outputs": [
    {
     "data": {
      "text/plain": [
       "691.9"
      ]
     },
     "execution_count": 4,
     "metadata": {},
     "output_type": "execute_result"
    }
   ],
   "source": [
    "data['Passenger deaths'].mean()"
   ]
  },
  {
   "cell_type": "code",
   "execution_count": 5,
   "metadata": {
    "collapsed": false,
    "jupyter": {
     "outputs_hidden": false
    },
    "pycharm": {
     "is_executing": false,
     "name": "#%%\n"
    }
   },
   "outputs": [],
   "source": [
    "Lambda = data['Passenger deaths'].mean()"
   ]
  },
  {
   "cell_type": "code",
   "execution_count": 6,
   "metadata": {
    "collapsed": false,
    "jupyter": {
     "outputs_hidden": false
    },
    "pycharm": {
     "is_executing": false,
     "name": "#%%\n"
    }
   },
   "outputs": [
    {
     "name": "stdout",
     "output_type": "stream",
     "text": [
      "generated quantities {\n",
      "    real lambda = normal_rng(692,200);\n",
      "    int deaths = poisson_rng(lambda);\n",
      "}\n"
     ]
    }
   ],
   "source": [
    "with open('passenger_deaths_ppc.stan', 'r') as file:\n",
    "    print(file.read())"
   ]
  },
  {
   "cell_type": "code",
   "execution_count": 7,
   "metadata": {
    "collapsed": false,
    "jupyter": {
     "outputs_hidden": false
    },
    "pycharm": {
     "is_executing": false,
     "name": "#%%\n"
    }
   },
   "outputs": [
    {
     "name": "stdout",
     "output_type": "stream",
     "text": [
      "Using cached StanModel\n"
     ]
    }
   ],
   "source": [
    "model_ppc=stan_utility.compile_model('passenger_deaths_ppc.stan')"
   ]
  },
  {
   "cell_type": "code",
   "execution_count": 8,
   "metadata": {
    "collapsed": false,
    "jupyter": {
     "outputs_hidden": false
    },
    "pycharm": {
     "is_executing": false,
     "name": "#%%\n"
    }
   },
   "outputs": [],
   "source": [
    "sim_ppc = model_ppc.sampling(data=dict(),\n",
    "                         iter=1000,\n",
    "                         warmup=0,\n",
    "                         refresh=1000,\n",
    "                         algorithm='Fixed_param',\n",
    "                         seed=523654)"
   ]
  },
  {
   "cell_type": "code",
   "execution_count": 9,
   "metadata": {
    "collapsed": false,
    "jupyter": {
     "outputs_hidden": false
    },
    "pycharm": {
     "is_executing": false,
     "name": "#%%\n"
    }
   },
   "outputs": [],
   "source": [
    "params_sim=sim_ppc.extract()\n",
    "lambda_sim=params_sim['lambda']\n",
    "deaths_sim=params_sim['deaths']"
   ]
  },
  {
   "cell_type": "code",
   "execution_count": 10,
   "metadata": {
    "collapsed": false,
    "jupyter": {
     "outputs_hidden": false
    },
    "pycharm": {
     "is_executing": false,
     "name": "#%%\n"
    }
   },
   "outputs": [
    {
     "name": "stderr",
     "output_type": "stream",
     "text": [
      "C:\\Users\\Bartek\\Anaconda3\\lib\\site-packages\\numpy\\lib\\histograms.py:824: RuntimeWarning: invalid value encountered in greater_equal\n",
      "  keep = (tmp_a >= first_edge)\n",
      "C:\\Users\\Bartek\\Anaconda3\\lib\\site-packages\\numpy\\lib\\histograms.py:825: RuntimeWarning: invalid value encountered in less_equal\n",
      "  keep &= (tmp_a <= last_edge)\n"
     ]
    },
    {
     "data": {
      "image/png": "[encoded data removed]",
      "text/plain": [
       "<Figure size 504x288 with 2 Axes>"
      ]
     },
     "metadata": {
      "needs_background": "light"
     },
     "output_type": "display_data"
    }
   ],
   "source": [
    "fig = plt.figure(figsize=(7, 4))\n",
    "\n",
    "gs = fig.add_gridspec(2,1)\n",
    "ax1 = fig.add_subplot(gs[1])\n",
    "ax1.hist(deaths_sim,bins=100,color=dark,edgecolor=dark_highlight,density=True)\n",
    "ax1.vlines([data['Passenger deaths'].min(),data['Passenger deaths'].max()],\n",
    "           ymin=0,ymax=2e-3,linestyle='--',color='black',zorder=1)\n",
    "ax1.set_title('Deaths (simulation)')\n",
    "\n",
    "ax2 = fig.add_subplot(gs[0])\n",
    "ax2.hist(lambda_sim,bins=100,color=dark,edgecolor=dark_highlight,density=True)\n",
    "x=np.linspace(0,1500,500)\n",
    "y=stats.norm.pdf(x,loc=692,scale=200)\n",
    "ax2.plot(x,y,'black')\n",
    "ax2.set_title('$\\lambda$')\n",
    "ax1.set_yticks([])\n",
    "ax2.set_yticks([])\n",
    "\n",
    "fig.tight_layout()\n",
    "plt.show()"
   ]
  },
  {
   "cell_type": "markdown",
   "metadata": {
    "pycharm": {
     "name": "#%% md\n"
    }
   },
   "source": [
    "Result is correct - number of simulated deaths match real data."
   ]
  },
  {
   "cell_type": "code",
   "execution_count": 11,
   "metadata": {
    "collapsed": false,
    "jupyter": {
     "outputs_hidden": false
    },
    "pycharm": {
     "is_executing": false,
     "name": "#%%\n"
    }
   },
   "outputs": [
    {
     "name": "stdout",
     "output_type": "stream",
     "text": [
      "data {\n",
      "    int N; //Number of our samples from data\n",
      "    int deaths[N]; //Our deaths per year from data\n",
      "}\n",
      "\n",
      "parameters{\n",
      "    real<lower=0> lambda;\n",
      "}\n",
      "\n",
      "model {\n",
      "    lambda ~ normal(692,200);\n",
      "    deaths ~ poisson(lambda);\n",
      "}\n",
      "\n",
      "generated quantities {\n",
      "    int death = poisson_rng(lambda);\n",
      "}\n"
     ]
    }
   ],
   "source": [
    "with open('passenger_deaths_fit.stan', 'r') as file:\n",
    "    print(file.read())"
   ]
  },
  {
   "cell_type": "code",
   "execution_count": 12,
   "metadata": {
    "collapsed": false,
    "jupyter": {
     "outputs_hidden": false
    },
    "pycharm": {
     "is_executing": false,
     "name": "#%%\n"
    }
   },
   "outputs": [
    {
     "name": "stdout",
     "output_type": "stream",
     "text": [
      "Using cached StanModel\n"
     ]
    }
   ],
   "source": [
    "model_fit=stan_utility.compile_model('passenger_deaths_fit.stan')"
   ]
  },
  {
   "cell_type": "code",
   "execution_count": 13,
   "metadata": {
    "collapsed": false,
    "jupyter": {
     "outputs_hidden": false
    },
    "pycharm": {
     "is_executing": false,
     "name": "#%%\n"
    }
   },
   "outputs": [],
   "source": [
    "fit=model_fit.sampling(data=dict(N=len(data['Passenger deaths']),\n",
    "                                 deaths=data['Passenger deaths']),\n",
    "                       seed=523654)"
   ]
  },
  {
   "cell_type": "code",
   "execution_count": 14,
   "metadata": {
    "collapsed": false,
    "jupyter": {
     "outputs_hidden": false
    },
    "pycharm": {
     "is_executing": false,
     "name": "#%%\n"
    }
   },
   "outputs": [
    {
     "data": {
      "text/html": [
       "<div>\n",
       "<style scoped>\n",
       "    .dataframe tbody tr th:only-of-type {\n",
       "        vertical-align: middle;\n",
       "    }\n",
       "\n",
       "    .dataframe tbody tr th {\n",
       "        vertical-align: top;\n",
       "    }\n",
       "\n",
       "    .dataframe thead th {\n",
       "        text-align: right;\n",
       "    }\n",
       "</style>\n",
       "<table border=\"1\" class=\"dataframe\">\n",
       "  <thead>\n",
       "    <tr style=\"text-align: right;\">\n",
       "      <th></th>\n",
       "      <th>mean</th>\n",
       "      <th>sd</th>\n",
       "      <th>hpd_3%</th>\n",
       "      <th>hpd_97%</th>\n",
       "    </tr>\n",
       "  </thead>\n",
       "  <tbody>\n",
       "    <tr>\n",
       "      <td>lambda</td>\n",
       "      <td>691.75</td>\n",
       "      <td>7.99</td>\n",
       "      <td>676.19</td>\n",
       "      <td>706.13</td>\n",
       "    </tr>\n",
       "  </tbody>\n",
       "</table>\n",
       "</div>"
      ],
      "text/plain": [
       "          mean    sd  hpd_3%  hpd_97%\n",
       "lambda  691.75  7.99  676.19   706.13"
      ]
     },
     "execution_count": 14,
     "metadata": {},
     "output_type": "execute_result"
    }
   ],
   "source": [
    "az.summary(fit,var_names=['lambda'], round_to=2, kind='stats')"
   ]
  },
  {
   "cell_type": "code",
   "execution_count": 15,
   "metadata": {
    "collapsed": false,
    "jupyter": {
     "outputs_hidden": false
    },
    "pycharm": {
     "is_executing": false,
     "name": "#%%\n"
    }
   },
   "outputs": [],
   "source": [
    "params_fit=fit.extract()\n",
    "lambda_fit=params_fit['lambda']\n",
    "deaths_pred=params_fit['death']"
   ]
  },
  {
   "cell_type": "code",
   "execution_count": 16,
   "metadata": {
    "collapsed": false,
    "jupyter": {
     "outputs_hidden": false
    },
    "pycharm": {
     "is_executing": false,
     "name": "#%%\n"
    }
   },
   "outputs": [
    {
     "data": {
      "image/png": "[encoded data removed]",
      "text/plain": [
       "<Figure size 504x288 with 2 Axes>"
      ]
     },
     "metadata": {
      "needs_background": "light"
     },
     "output_type": "display_data"
    }
   ],
   "source": [
    "fig, axes = plt.subplots(1, 2, figsize=(7, 4),sharex=True)\n",
    "ax=axes[0]\n",
    "ax.hist(data['Passenger deaths'],color=dark,edgecolor=dark_highlight,density=True)\n",
    "ax.set_title('Deaths (real data)')\n",
    "ax.set_yticks(());\n",
    "ax2=axes[1]\n",
    "ax2.hist(deaths_pred,bins=6,color=dark,edgecolor=dark_highlight,density=True)\n",
    "ax2.set_title('Deaths (predicted)')\n",
    "ax2.set_yticks(());\n",
    "fig.tight_layout()\n",
    "\n",
    "plt.show()"
   ]
  },
  {
   "cell_type": "markdown",
   "metadata": {
    "pycharm": {
     "is_executing": false,
     "name": "#%% md\n"
    }
   },
   "source": [
    "Prediction does not cover the real data. We can see that prediction is focused in range from 600 to 800 whereas the real data is wider. It is hard to create good prediction with this little data. What matches is the probability of the biggest death rate."
   ]
  },
  {
   "cell_type": "markdown",
   "metadata": {
    "pycharm": {
     "is_executing": false,
     "name": "#%% md\n"
    }
   },
   "source": [
    "2. The intensity is constant, but rate is a product of intensity and miles flown."
   ]
  },
  {
   "cell_type": "code",
   "execution_count": 17,
   "metadata": {
    "collapsed": false,
    "jupyter": {
     "outputs_hidden": false
    },
    "pycharm": {
     "is_executing": false,
     "name": "#%%\n"
    }
   },
   "outputs": [
    {
     "data": {
      "text/plain": [
       "0.126"
      ]
     },
     "execution_count": 17,
     "metadata": {},
     "output_type": "execute_result"
    }
   ],
   "source": [
    "intensity = data['Death rate'].mean()\n",
    "intensity"
   ]
  },
  {
   "cell_type": "code",
   "execution_count": 18,
   "metadata": {
    "collapsed": false,
    "jupyter": {
     "outputs_hidden": false
    },
    "pycharm": {
     "is_executing": false,
     "name": "#%%\n"
    }
   },
   "outputs": [
    {
     "name": "stdout",
     "output_type": "stream",
     "text": [
      "data {\n",
      "    int N;\n",
      "    real Miles[N];\n",
      "}\n",
      "\n",
      "generated quantities {\n",
      "    real beta = beta_rng(2,10); //intensity\n",
      "    int deaths[N];\n",
      "    for(i in 1:N) {\n",
      "        deaths[i] = poisson_rng(Miles[i]*beta);\n",
      "    }\n",
      "\n",
      "}\n"
     ]
    }
   ],
   "source": [
    "with open('passenger_deaths_rate_ppc.stan', 'r') as file:\n",
    "    print(file.read())"
   ]
  },
  {
   "cell_type": "code",
   "execution_count": 19,
   "metadata": {
    "collapsed": false,
    "jupyter": {
     "outputs_hidden": false
    },
    "pycharm": {
     "is_executing": false,
     "name": "#%%\n"
    }
   },
   "outputs": [
    {
     "name": "stdout",
     "output_type": "stream",
     "text": [
      "Using cached StanModel\n"
     ]
    }
   ],
   "source": [
    "model_ppc_rate=stan_utility.compile_model('passenger_deaths_rate_ppc.stan')"
   ]
  },
  {
   "cell_type": "code",
   "execution_count": 20,
   "metadata": {
    "collapsed": false,
    "jupyter": {
     "outputs_hidden": false
    },
    "pycharm": {
     "is_executing": false,
     "name": "#%%\n"
    }
   },
   "outputs": [],
   "source": [
    "data_sim=dict(N=50,\n",
    "              Miles=np.linspace(data['Miles flown [100 mln miles]'].min(),\n",
    "                                data['Miles flown [100 mln miles]'].max()))\n",
    "                                   \n",
    "rate_sim = model_ppc_rate.sampling(data=data_sim,\n",
    "                                   iter=1000,\n",
    "                                   warmup=0,\n",
    "                                   chains=1,\n",
    "                                   refresh=1000,\n",
    "                                   algorithm='Fixed_param',\n",
    "                                   seed=523654)"
   ]
  },
  {
   "cell_type": "code",
   "execution_count": 21,
   "metadata": {
    "collapsed": false,
    "jupyter": {
     "outputs_hidden": false
    },
    "pycharm": {
     "is_executing": false,
     "name": "#%%\n"
    }
   },
   "outputs": [],
   "source": [
    "params_rate_sim=rate_sim.extract()\n",
    "beta_sim=params_rate_sim['beta']"
   ]
  },
  {
   "cell_type": "code",
   "execution_count": 22,
   "metadata": {
    "collapsed": false,
    "jupyter": {
     "outputs_hidden": false
    },
    "pycharm": {
     "is_executing": false,
     "name": "#%%\n"
    }
   },
   "outputs": [
    {
     "name": "stderr",
     "output_type": "stream",
     "text": [
      "INFO:numexpr.utils:NumExpr defaulting to 4 threads.\n"
     ]
    },
    {
     "data": {
      "image/png": "[encoded data removed]",
      "text/plain": [
       "<Figure size 504x288 with 1 Axes>"
      ]
     },
     "metadata": {
      "needs_background": "light"
     },
     "output_type": "display_data"
    }
   ],
   "source": [
    "fig, axes = plt.subplots(1, 1, figsize=(7, 4))\n",
    "axes.hlines([data['Passenger deaths'].min(),\n",
    "             data['Passenger deaths'].max()],\n",
    "            xmin=data['Miles flown [100 mln miles]'].min(),\n",
    "            xmax=data['Miles flown [100 mln miles]'].max(),\n",
    "            colors='black')\n",
    "for i in range(100):\n",
    "    axes.plot(data['Miles flown [100 mln miles]'],\n",
    "              beta_sim[i]*data['Miles flown [100 mln miles]'],\n",
    "              color=mid,\n",
    "              alpha=0.5,\n",
    "              linewidth=0.5)\n",
    "axes.set_xlabel('Miles flown [100 mln miles]')\n",
    "axes.set_ylabel('Passenger deaths')\n",
    "axes.set_title(r'intensity*$\\beta$+$\\alpha$')\n",
    "plt.show()"
   ]
  },
  {
   "cell_type": "markdown",
   "metadata": {
    "pycharm": {
     "is_executing": false,
     "name": "#%% md\n"
    }
   },
   "source": [
    "Most of the estimations fit mentioned conditions."
   ]
  },
  {
   "cell_type": "code",
   "execution_count": 23,
   "metadata": {
    "collapsed": false,
    "jupyter": {
     "outputs_hidden": false
    },
    "pycharm": {
     "is_executing": false,
     "name": "#%%\n"
    }
   },
   "outputs": [],
   "source": [
    "deaths_rate_sim=params_rate_sim['deaths']"
   ]
  },
  {
   "cell_type": "code",
   "execution_count": 24,
   "metadata": {
    "collapsed": false,
    "jupyter": {
     "outputs_hidden": false
    },
    "pycharm": {
     "is_executing": false,
     "name": "#%%\n"
    }
   },
   "outputs": [
    {
     "data": {
      "image/png": "[encoded data removed]",
      "text/plain": [
       "<Figure size 504x288 with 1 Axes>"
      ]
     },
     "metadata": {
      "needs_background": "light"
     },
     "output_type": "display_data"
    }
   ],
   "source": [
    "fig, axes = plt.subplots(1, 1, figsize=(7,4))\n",
    "axes = ribbon_plot(data_sim['Miles'],deaths_rate_sim,axes)\n",
    "axes.scatter(data['Miles flown [100 mln miles]'],\n",
    "             data['Passenger deaths'],\n",
    "             color='black',\n",
    "             alpha=0.5,\n",
    "             s=10)\n",
    "axes.set_xlabel('Miles flown [100 mln miles]')\n",
    "axes.set_ylabel('Passenger deaths')\n",
    "plt.show()"
   ]
  },
  {
   "cell_type": "markdown",
   "metadata": {
    "pycharm": {
     "name": "#%% md\n"
    }
   },
   "source": [
    "Almost all of the samples are covered by our prior model."
   ]
  },
  {
   "cell_type": "code",
   "execution_count": 25,
   "metadata": {
    "collapsed": false,
    "jupyter": {
     "outputs_hidden": false
    },
    "pycharm": {
     "is_executing": false,
     "name": "#%%\n"
    }
   },
   "outputs": [
    {
     "name": "stdout",
     "output_type": "stream",
     "text": [
      "data {\n",
      "    int N;\n",
      "    int deaths[N];\n",
      "    vector[N] Miles;\n",
      "}\n",
      "\n",
      "parameters{\n",
      "    real beta;\n",
      "}\n",
      "\n",
      "transformed parameters {\n",
      "    vector[N] lambda = Miles*beta;\n",
      "}\n",
      "\n",
      "model {\n",
      "    beta ~ beta(2,10);\n",
      "    deaths ~ poisson(lambda);\n",
      "}\n",
      "\n",
      "generated quantities {\n",
      "    int death[N];\n",
      "    for (i in 1:N) {\n",
      "        death[i] = poisson_rng(lambda[i]);\n",
      "    }\n",
      "\n",
      "}\n"
     ]
    }
   ],
   "source": [
    "with open('passenger_deaths_rate_fit.stan', 'r') as file:\n",
    "    print(file.read())"
   ]
  },
  {
   "cell_type": "code",
   "execution_count": 26,
   "metadata": {
    "collapsed": false,
    "jupyter": {
     "outputs_hidden": false
    },
    "pycharm": {
     "is_executing": false,
     "name": "#%%\n"
    }
   },
   "outputs": [
    {
     "name": "stdout",
     "output_type": "stream",
     "text": [
      "Using cached StanModel\n"
     ]
    }
   ],
   "source": [
    "model_rate_fit = stan_utility.compile_model('passenger_deaths_rate_fit.stan')"
   ]
  },
  {
   "cell_type": "code",
   "execution_count": 27,
   "metadata": {
    "collapsed": false,
    "jupyter": {
     "outputs_hidden": false
    },
    "pycharm": {
     "is_executing": false,
     "name": "#%%\n"
    }
   },
   "outputs": [],
   "source": [
    "data_fit=dict(N=len(data),\n",
    "              deaths=data['Passenger deaths'],\n",
    "              Miles=data['Miles flown [100 mln miles]'])\n",
    "\n",
    "rate_fit=model_rate_fit.sampling(data=data_fit,\n",
    "                                 seed=523654)"
   ]
  },
  {
   "cell_type": "code",
   "execution_count": 28,
   "metadata": {
    "collapsed": false,
    "jupyter": {
     "outputs_hidden": false
    },
    "pycharm": {
     "is_executing": false,
     "name": "#%%\n"
    }
   },
   "outputs": [],
   "source": [
    "params_rate_fit=rate_fit.extract()\n",
    "beta_rate_fit=params_rate_fit['beta']\n",
    "lambda_rate_fit=params_rate_fit['lambda']\n",
    "deaths_rate_pred=params_rate_fit['death']"
   ]
  },
  {
   "cell_type": "code",
   "execution_count": 29,
   "metadata": {
    "collapsed": false,
    "jupyter": {
     "outputs_hidden": false
    },
    "pycharm": {
     "is_executing": false,
     "name": "#%%\n"
    }
   },
   "outputs": [
    {
     "data": {
      "text/html": [
       "<div>\n",
       "<style scoped>\n",
       "    .dataframe tbody tr th:only-of-type {\n",
       "        vertical-align: middle;\n",
       "    }\n",
       "\n",
       "    .dataframe tbody tr th {\n",
       "        vertical-align: top;\n",
       "    }\n",
       "\n",
       "    .dataframe thead th {\n",
       "        text-align: right;\n",
       "    }\n",
       "</style>\n",
       "<table border=\"1\" class=\"dataframe\">\n",
       "  <thead>\n",
       "    <tr style=\"text-align: right;\">\n",
       "      <th></th>\n",
       "      <th>mean</th>\n",
       "      <th>sd</th>\n",
       "      <th>hpd_3%</th>\n",
       "      <th>hpd_97%</th>\n",
       "    </tr>\n",
       "  </thead>\n",
       "  <tbody>\n",
       "    <tr>\n",
       "      <td>beta</td>\n",
       "      <td>0.12</td>\n",
       "      <td>0.00</td>\n",
       "      <td>0.12</td>\n",
       "      <td>0.12</td>\n",
       "    </tr>\n",
       "    <tr>\n",
       "      <td>lambda[0]</td>\n",
       "      <td>467.44</td>\n",
       "      <td>5.65</td>\n",
       "      <td>457.40</td>\n",
       "      <td>478.73</td>\n",
       "    </tr>\n",
       "    <tr>\n",
       "      <td>lambda[1]</td>\n",
       "      <td>520.32</td>\n",
       "      <td>6.29</td>\n",
       "      <td>509.15</td>\n",
       "      <td>532.88</td>\n",
       "    </tr>\n",
       "    <tr>\n",
       "      <td>lambda[2]</td>\n",
       "      <td>608.29</td>\n",
       "      <td>7.36</td>\n",
       "      <td>595.23</td>\n",
       "      <td>622.98</td>\n",
       "    </tr>\n",
       "    <tr>\n",
       "      <td>lambda[3]</td>\n",
       "      <td>663.23</td>\n",
       "      <td>8.02</td>\n",
       "      <td>648.99</td>\n",
       "      <td>679.24</td>\n",
       "    </tr>\n",
       "    <tr>\n",
       "      <td>lambda[4]</td>\n",
       "      <td>703.52</td>\n",
       "      <td>8.51</td>\n",
       "      <td>688.42</td>\n",
       "      <td>720.51</td>\n",
       "    </tr>\n",
       "    <tr>\n",
       "      <td>lambda[5]</td>\n",
       "      <td>730.02</td>\n",
       "      <td>8.83</td>\n",
       "      <td>714.35</td>\n",
       "      <td>747.65</td>\n",
       "    </tr>\n",
       "    <tr>\n",
       "      <td>lambda[6]</td>\n",
       "      <td>711.14</td>\n",
       "      <td>8.60</td>\n",
       "      <td>695.88</td>\n",
       "      <td>728.32</td>\n",
       "    </tr>\n",
       "    <tr>\n",
       "      <td>lambda[7]</td>\n",
       "      <td>753.01</td>\n",
       "      <td>9.11</td>\n",
       "      <td>736.84</td>\n",
       "      <td>771.19</td>\n",
       "    </tr>\n",
       "    <tr>\n",
       "      <td>lambda[8]</td>\n",
       "      <td>899.43</td>\n",
       "      <td>10.88</td>\n",
       "      <td>880.12</td>\n",
       "      <td>921.14</td>\n",
       "    </tr>\n",
       "    <tr>\n",
       "      <td>lambda[9]</td>\n",
       "      <td>859.98</td>\n",
       "      <td>10.40</td>\n",
       "      <td>841.52</td>\n",
       "      <td>880.74</td>\n",
       "    </tr>\n",
       "  </tbody>\n",
       "</table>\n",
       "</div>"
      ],
      "text/plain": [
       "             mean     sd  hpd_3%  hpd_97%\n",
       "beta         0.12   0.00    0.12     0.12\n",
       "lambda[0]  467.44   5.65  457.40   478.73\n",
       "lambda[1]  520.32   6.29  509.15   532.88\n",
       "lambda[2]  608.29   7.36  595.23   622.98\n",
       "lambda[3]  663.23   8.02  648.99   679.24\n",
       "lambda[4]  703.52   8.51  688.42   720.51\n",
       "lambda[5]  730.02   8.83  714.35   747.65\n",
       "lambda[6]  711.14   8.60  695.88   728.32\n",
       "lambda[7]  753.01   9.11  736.84   771.19\n",
       "lambda[8]  899.43  10.88  880.12   921.14\n",
       "lambda[9]  859.98  10.40  841.52   880.74"
      ]
     },
     "execution_count": 29,
     "metadata": {},
     "output_type": "execute_result"
    }
   ],
   "source": [
    "az.summary(rate_fit,\n",
    "           var_names=['beta', 'lambda'],\n",
    "           round_to=2,\n",
    "           kind='stats')"
   ]
  },
  {
   "cell_type": "code",
   "execution_count": 30,
   "metadata": {
    "collapsed": false,
    "jupyter": {
     "outputs_hidden": false
    },
    "pycharm": {
     "is_executing": false,
     "name": "#%%\n"
    }
   },
   "outputs": [
    {
     "data": {
      "image/png": "[encoded data removed]",
      "text/plain": [
       "<Figure size 504x288 with 1 Axes>"
      ]
     },
     "metadata": {
      "needs_background": "light"
     },
     "output_type": "display_data"
    }
   ],
   "source": [
    "fig, axes = plt.subplots(1,1, figsize=(7, 4),sharey=True,sharex=True)\n",
    "for i in range(100):\n",
    "    axes.plot(data['Miles flown [100 mln miles]'],\n",
    "              beta_rate_fit[i]*data['Miles flown [100 mln miles]'],\n",
    "              color=mid,\n",
    "              alpha=0.5,\n",
    "              linewidth=0.5)\n",
    "axes.scatter(data['Miles flown [100 mln miles]'],data['Passenger deaths'],color='black',alpha=0.5,s=10)\n",
    "axes.set_ylabel('Passenger deaths')\n",
    "axes.set_xlabel('Miles flown [100 mln miles]')\n",
    "axes.set_title('Mean uncertainity for {} of datapoints'.format(len(data)))\n",
    "fig.tight_layout()\n",
    "plt.show()"
   ]
  },
  {
   "cell_type": "code",
   "execution_count": 31,
   "metadata": {
    "collapsed": false,
    "jupyter": {
     "outputs_hidden": false
    },
    "pycharm": {
     "is_executing": false,
     "name": "#%%\n"
    }
   },
   "outputs": [
    {
     "name": "stdout",
     "output_type": "stream",
     "text": [
      "Sorting\n"
     ]
    },
    {
     "data": {
      "image/png": "[encoded data removed]",
      "text/plain": [
       "<Figure size 504x288 with 1 Axes>"
      ]
     },
     "metadata": {
      "needs_background": "light"
     },
     "output_type": "display_data"
    }
   ],
   "source": [
    "fig, axes = plt.subplots(1, 1, figsize=(7, 4))\n",
    "axes = ribbon_plot(data['Miles flown [100 mln miles]'].values,deaths_rate_pred,axes)\n",
    "axes.scatter(data['Miles flown [100 mln miles]'],data['Passenger deaths'],color='black',alpha=0.5,s=10)\n",
    "axes.set_ylabel('Passenger deaths')\n",
    "axes.set_xlabel('Miles flown [100 mln miles]')\n",
    "axes.set_title('Prediction uncertainity for {} of datapoints'.format(len(data)))\n",
    "plt.show()"
   ]
  },
  {
   "cell_type": "markdown",
   "metadata": {
    "pycharm": {
     "is_executing": false,
     "name": "#%% md\n"
    }
   },
   "source": [
    "We can see that data is much better covered but it still needs improvements as our model is based on small dataset."
   ]
  }
 ],
 "metadata": {
  "kernelspec": {
   "display_name": "Python 3",
   "language": "python",
   "name": "python3"
  },
  "language_info": {
   "codemirror_mode": {
    "name": "ipython",
    "version": 3
   },
   "file_extension": ".py",
   "mimetype": "text/x-python",
   "name": "python",
   "nbconvert_exporter": "python",
   "pygments_lexer": "ipython3",
   "version": "3.7.4"
  }
 },
 "nbformat": 4,
 "nbformat_minor": 4
}
